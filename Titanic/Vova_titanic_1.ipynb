{
 "cells": [
  {
   "cell_type": "markdown",
   "id": "1c117727",
   "metadata": {},
   "source": [
    "#### Imports"
   ]
  },
  {
   "cell_type": "code",
   "execution_count": 1,
   "id": "1b01e079",
   "metadata": {},
   "outputs": [],
   "source": [
    "%matplotlib inline\n",
    "import pandas as pd\n",
    "import numpy as np\n",
    "import seaborn as sns\n",
    "import matplotlib.pyplot as plt\n",
    "from datetime import datetime\n",
    "\n",
    "from sklearn.preprocessing import MinMaxScaler, StandardScaler\n",
    "from sklearn.metrics import classification_report\n",
    "from sklearn.ensemble import RandomForestClassifier, GradientBoostingClassifier\n",
    "from sklearn.svm import SVC\n",
    "from sklearn.tree import DecisionTreeClassifier\n",
    "from sklearn.model_selection import RandomizedSearchCV, cross_val_score, train_test_split\n",
    "\n",
    "from catboost import Pool, CatBoostClassifier\n",
    "from lightgbm import LGBMClassifier\n",
    "from xgboost import XGBClassifier"
   ]
  },
  {
   "cell_type": "markdown",
   "id": "bf0262cb",
   "metadata": {},
   "source": [
    "#### Read CSV"
   ]
  },
  {
   "cell_type": "code",
   "execution_count": 2,
   "id": "b8d5e078",
   "metadata": {},
   "outputs": [],
   "source": [
    "def get_scores(X, ncv = 10):\n",
    "    st = timer()\n",
    "    rf0 = RandomForestClassifier(max_depth = 7)\n",
    "    svm0 = SVC()\n",
    "    xgb0 = XGBClassifier(max_depth = 7)\n",
    "\n",
    "    res0 = {}\n",
    "    res0[\"forest\"] = cross_val_score(rf0, X, target, cv=ncv).mean()\n",
    "    res0[\"svm\"] = cross_val_score(svm0, X, target, cv=ncv).mean()\n",
    "    res0[\"xgb\"] = cross_val_score(xgb0, X, target, cv=ncv).mean()\n",
    "    timer(st)\n",
    "    return res0, np.array(list(res0.values())).mean()\n",
    "\n",
    "def timer(st = None):\n",
    "    if not st:\n",
    "        return datetime.now()\n",
    "    if st:\n",
    "        h, t = divmod((datetime.now()-st).total_seconds(), 3600)\n",
    "        m, s = divmod(t, 60)\n",
    "        print(f\"{h} hours, {m} minutes and {round(s, 2)} seconds!\")"
   ]
  },
  {
   "cell_type": "code",
   "execution_count": 3,
   "id": "9d1367d7",
   "metadata": {},
   "outputs": [],
   "source": [
    "train = pd.read_csv(\"train.csv\")\n",
    "test = pd.read_csv(\"test.csv\")\n",
    "titanic = pd.concat([train, test], axis=0)\n",
    "\n",
    "Id = test.PassengerId\n",
    "target = train.Survived\n",
    "split_index = len(train)\n",
    "seed = np.random.randint(1,300)\n",
    "ncv = 30 "
   ]
  },
  {
   "cell_type": "code",
   "execution_count": 4,
   "id": "8bafbad3",
   "metadata": {},
   "outputs": [],
   "source": [
    "titanic.drop([\"PassengerId\"], axis=1, inplace= True)"
   ]
  },
  {
   "cell_type": "markdown",
   "id": "19eed459",
   "metadata": {},
   "source": [
    "#### Features for test"
   ]
  },
  {
   "cell_type": "code",
   "execution_count": 14,
   "id": "fbedb5ff",
   "metadata": {},
   "outputs": [],
   "source": [
    "dop_features = pd.DataFrame()\n",
    "dop_features[\"Family\"] = titanic.Parch + titanic.SibSp + 1\n",
    "dop_features[\"IsAlong\"] = dop_features.Family.map(lambda x: 1 if x==1 else 0)\n",
    "titanic.Cabin = titanic.Cabin.fillna(\"NAN\")\n",
    "dop_features[\"Cabin_First\"] = titanic.Cabin.map(lambda x: x[0])\n",
    "dop_features[\"IsCabin\"] = titanic.Cabin.map(lambda x: 1 if x != \"NAN\" else 0)\n",
    "dop_features[\"Ticket_First\"] = titanic.Ticket.map(lambda x: x[0])"
   ]
  },
  {
   "cell_type": "code",
   "execution_count": 15,
   "id": "4a240a98",
   "metadata": {},
   "outputs": [
    {
     "data": {
      "text/html": [
       "<div>\n",
       "<style scoped>\n",
       "    .dataframe tbody tr th:only-of-type {\n",
       "        vertical-align: middle;\n",
       "    }\n",
       "\n",
       "    .dataframe tbody tr th {\n",
       "        vertical-align: top;\n",
       "    }\n",
       "\n",
       "    .dataframe thead th {\n",
       "        text-align: right;\n",
       "    }\n",
       "</style>\n",
       "<table border=\"1\" class=\"dataframe\">\n",
       "  <thead>\n",
       "    <tr style=\"text-align: right;\">\n",
       "      <th></th>\n",
       "      <th>Family</th>\n",
       "      <th>IsAlong</th>\n",
       "      <th>Cabin_First</th>\n",
       "      <th>IsCabin</th>\n",
       "      <th>Ticket_First</th>\n",
       "    </tr>\n",
       "  </thead>\n",
       "  <tbody>\n",
       "    <tr>\n",
       "      <th>0</th>\n",
       "      <td>2</td>\n",
       "      <td>0</td>\n",
       "      <td>N</td>\n",
       "      <td>0</td>\n",
       "      <td>A</td>\n",
       "    </tr>\n",
       "    <tr>\n",
       "      <th>1</th>\n",
       "      <td>2</td>\n",
       "      <td>0</td>\n",
       "      <td>C</td>\n",
       "      <td>1</td>\n",
       "      <td>P</td>\n",
       "    </tr>\n",
       "    <tr>\n",
       "      <th>2</th>\n",
       "      <td>1</td>\n",
       "      <td>1</td>\n",
       "      <td>N</td>\n",
       "      <td>0</td>\n",
       "      <td>S</td>\n",
       "    </tr>\n",
       "    <tr>\n",
       "      <th>3</th>\n",
       "      <td>2</td>\n",
       "      <td>0</td>\n",
       "      <td>C</td>\n",
       "      <td>1</td>\n",
       "      <td>1</td>\n",
       "    </tr>\n",
       "    <tr>\n",
       "      <th>4</th>\n",
       "      <td>1</td>\n",
       "      <td>1</td>\n",
       "      <td>N</td>\n",
       "      <td>0</td>\n",
       "      <td>3</td>\n",
       "    </tr>\n",
       "    <tr>\n",
       "      <th>...</th>\n",
       "      <td>...</td>\n",
       "      <td>...</td>\n",
       "      <td>...</td>\n",
       "      <td>...</td>\n",
       "      <td>...</td>\n",
       "    </tr>\n",
       "    <tr>\n",
       "      <th>413</th>\n",
       "      <td>1</td>\n",
       "      <td>1</td>\n",
       "      <td>N</td>\n",
       "      <td>0</td>\n",
       "      <td>A</td>\n",
       "    </tr>\n",
       "    <tr>\n",
       "      <th>414</th>\n",
       "      <td>1</td>\n",
       "      <td>1</td>\n",
       "      <td>C</td>\n",
       "      <td>1</td>\n",
       "      <td>P</td>\n",
       "    </tr>\n",
       "    <tr>\n",
       "      <th>415</th>\n",
       "      <td>1</td>\n",
       "      <td>1</td>\n",
       "      <td>N</td>\n",
       "      <td>0</td>\n",
       "      <td>S</td>\n",
       "    </tr>\n",
       "    <tr>\n",
       "      <th>416</th>\n",
       "      <td>1</td>\n",
       "      <td>1</td>\n",
       "      <td>N</td>\n",
       "      <td>0</td>\n",
       "      <td>3</td>\n",
       "    </tr>\n",
       "    <tr>\n",
       "      <th>417</th>\n",
       "      <td>3</td>\n",
       "      <td>0</td>\n",
       "      <td>N</td>\n",
       "      <td>0</td>\n",
       "      <td>2</td>\n",
       "    </tr>\n",
       "  </tbody>\n",
       "</table>\n",
       "<p>1309 rows × 5 columns</p>\n",
       "</div>"
      ],
      "text/plain": [
       "     Family  IsAlong Cabin_First  IsCabin Ticket_First\n",
       "0         2        0           N        0            A\n",
       "1         2        0           C        1            P\n",
       "2         1        1           N        0            S\n",
       "3         2        0           C        1            1\n",
       "4         1        1           N        0            3\n",
       "..      ...      ...         ...      ...          ...\n",
       "413       1        1           N        0            A\n",
       "414       1        1           C        1            P\n",
       "415       1        1           N        0            S\n",
       "416       1        1           N        0            3\n",
       "417       3        0           N        0            2\n",
       "\n",
       "[1309 rows x 5 columns]"
      ]
     },
     "execution_count": 15,
     "metadata": {},
     "output_type": "execute_result"
    }
   ],
   "source": [
    "dop_features"
   ]
  },
  {
   "cell_type": "code",
   "execution_count": 7,
   "id": "3fffee91",
   "metadata": {},
   "outputs": [
    {
     "data": {
      "text/html": [
       "<div>\n",
       "<style scoped>\n",
       "    .dataframe tbody tr th:only-of-type {\n",
       "        vertical-align: middle;\n",
       "    }\n",
       "\n",
       "    .dataframe tbody tr th {\n",
       "        vertical-align: top;\n",
       "    }\n",
       "\n",
       "    .dataframe thead th {\n",
       "        text-align: right;\n",
       "    }\n",
       "</style>\n",
       "<table border=\"1\" class=\"dataframe\">\n",
       "  <thead>\n",
       "    <tr style=\"text-align: right;\">\n",
       "      <th></th>\n",
       "      <th>Family</th>\n",
       "      <th>IsAlong</th>\n",
       "      <th>Cabin_First</th>\n",
       "      <th>IsCabin</th>\n",
       "    </tr>\n",
       "  </thead>\n",
       "  <tbody>\n",
       "    <tr>\n",
       "      <th>0</th>\n",
       "      <td>2</td>\n",
       "      <td>0</td>\n",
       "      <td>N</td>\n",
       "      <td>0</td>\n",
       "    </tr>\n",
       "    <tr>\n",
       "      <th>1</th>\n",
       "      <td>2</td>\n",
       "      <td>0</td>\n",
       "      <td>C</td>\n",
       "      <td>1</td>\n",
       "    </tr>\n",
       "    <tr>\n",
       "      <th>2</th>\n",
       "      <td>1</td>\n",
       "      <td>1</td>\n",
       "      <td>N</td>\n",
       "      <td>0</td>\n",
       "    </tr>\n",
       "    <tr>\n",
       "      <th>3</th>\n",
       "      <td>2</td>\n",
       "      <td>0</td>\n",
       "      <td>C</td>\n",
       "      <td>1</td>\n",
       "    </tr>\n",
       "    <tr>\n",
       "      <th>4</th>\n",
       "      <td>1</td>\n",
       "      <td>1</td>\n",
       "      <td>N</td>\n",
       "      <td>0</td>\n",
       "    </tr>\n",
       "    <tr>\n",
       "      <th>...</th>\n",
       "      <td>...</td>\n",
       "      <td>...</td>\n",
       "      <td>...</td>\n",
       "      <td>...</td>\n",
       "    </tr>\n",
       "    <tr>\n",
       "      <th>413</th>\n",
       "      <td>1</td>\n",
       "      <td>1</td>\n",
       "      <td>N</td>\n",
       "      <td>0</td>\n",
       "    </tr>\n",
       "    <tr>\n",
       "      <th>414</th>\n",
       "      <td>1</td>\n",
       "      <td>1</td>\n",
       "      <td>C</td>\n",
       "      <td>1</td>\n",
       "    </tr>\n",
       "    <tr>\n",
       "      <th>415</th>\n",
       "      <td>1</td>\n",
       "      <td>1</td>\n",
       "      <td>N</td>\n",
       "      <td>0</td>\n",
       "    </tr>\n",
       "    <tr>\n",
       "      <th>416</th>\n",
       "      <td>1</td>\n",
       "      <td>1</td>\n",
       "      <td>N</td>\n",
       "      <td>0</td>\n",
       "    </tr>\n",
       "    <tr>\n",
       "      <th>417</th>\n",
       "      <td>3</td>\n",
       "      <td>0</td>\n",
       "      <td>N</td>\n",
       "      <td>0</td>\n",
       "    </tr>\n",
       "  </tbody>\n",
       "</table>\n",
       "<p>1309 rows × 4 columns</p>\n",
       "</div>"
      ],
      "text/plain": [
       "     Family  IsAlong Cabin_First  IsCabin\n",
       "0         2        0           N        0\n",
       "1         2        0           C        1\n",
       "2         1        1           N        0\n",
       "3         2        0           C        1\n",
       "4         1        1           N        0\n",
       "..      ...      ...         ...      ...\n",
       "413       1        1           N        0\n",
       "414       1        1           C        1\n",
       "415       1        1           N        0\n",
       "416       1        1           N        0\n",
       "417       3        0           N        0\n",
       "\n",
       "[1309 rows x 4 columns]"
      ]
     },
     "execution_count": 7,
     "metadata": {},
     "output_type": "execute_result"
    }
   ],
   "source": [
    "dop_features"
   ]
  },
  {
   "cell_type": "markdown",
   "id": "a17fb1fc",
   "metadata": {},
   "source": [
    "#### 0 solution"
   ]
  },
  {
   "cell_type": "code",
   "execution_count": 8,
   "id": "f18a460e",
   "metadata": {},
   "outputs": [
    {
     "name": "stdout",
     "output_type": "stream",
     "text": [
      "0.0 hours, 0.0 minutes and 6.66 seconds!\n"
     ]
    },
    {
     "data": {
      "text/plain": [
       "({'forest': 0.7800766283524905,\n",
       "  'svm': 0.8079693486590038,\n",
       "  'xgb': 0.7743678160919542},\n",
       " 0.7874712643678161)"
      ]
     },
     "execution_count": 8,
     "metadata": {},
     "output_type": "execute_result"
    }
   ],
   "source": [
    "df0 = titanic.drop([\"Name\", \"Ticket\", \"Cabin\", \"Embarked\", \"Fare\", \"Age\", \"Survived\"], axis=1)[:split_index]\n",
    "X0 = MinMaxScaler().fit_transform(np.array(pd.get_dummies(df0[:split_index], columns=[\"Sex\"], drop_first=True)))\n",
    "get_scores(X0, ncv)"
   ]
  },
  {
   "cell_type": "markdown",
   "id": "ca98ab7a",
   "metadata": {},
   "source": [
    "#### 1 solution"
   ]
  },
  {
   "cell_type": "code",
   "execution_count": 9,
   "id": "b53a4700",
   "metadata": {},
   "outputs": [],
   "source": [
    "df1 = titanic.drop([\"Survived\", \"Cabin\", \"Ticket\", \"Name\"], axis=1)\n",
    "df1.Embarked = df1.Embarked.fillna(df1.Embarked.mode()[0])\n",
    "df1.Age = df1.Age.fillna(df1.Age.median())\n",
    "df1.Fare = df1.Fare.fillna(df1.Fare.median())"
   ]
  },
  {
   "cell_type": "code",
   "execution_count": 10,
   "id": "87150009",
   "metadata": {},
   "outputs": [
    {
     "name": "stdout",
     "output_type": "stream",
     "text": [
      "0.0 hours, 0.0 minutes and 7.3 seconds!\n"
     ]
    },
    {
     "data": {
      "text/plain": [
       "({'forest': 0.828199233716475,\n",
       "  'svm': 0.8112643678160919,\n",
       "  'xgb': 0.8148275862068967},\n",
       " 0.8180970625798212)"
      ]
     },
     "execution_count": 10,
     "metadata": {},
     "output_type": "execute_result"
    }
   ],
   "source": [
    "X1 = MinMaxScaler().fit_transform(np.array(pd.get_dummies(df1[:split_index], columns=[\"Sex\", \"Embarked\"], drop_first=True)))\n",
    "get_scores(X1, ncv)"
   ]
  },
  {
   "cell_type": "markdown",
   "id": "b664133c",
   "metadata": {},
   "source": [
    "#### 2 solution"
   ]
  },
  {
   "cell_type": "code",
   "execution_count": null,
   "id": "8b5c1096",
   "metadata": {},
   "outputs": [],
   "source": []
  },
  {
   "cell_type": "code",
   "execution_count": null,
   "id": "aa3b2de6",
   "metadata": {},
   "outputs": [],
   "source": []
  },
  {
   "cell_type": "code",
   "execution_count": null,
   "id": "7f33e3ba",
   "metadata": {},
   "outputs": [],
   "source": []
  },
  {
   "cell_type": "code",
   "execution_count": null,
   "id": "5b0519ef",
   "metadata": {},
   "outputs": [],
   "source": []
  },
  {
   "cell_type": "code",
   "execution_count": null,
   "id": "98352753",
   "metadata": {},
   "outputs": [],
   "source": []
  }
 ],
 "metadata": {
  "kernelspec": {
   "display_name": "Python 3 (ipykernel)",
   "language": "python",
   "name": "python3"
  },
  "language_info": {
   "codemirror_mode": {
    "name": "ipython",
    "version": 3
   },
   "file_extension": ".py",
   "mimetype": "text/x-python",
   "name": "python",
   "nbconvert_exporter": "python",
   "pygments_lexer": "ipython3",
   "version": "3.8.12"
  },
  "varInspector": {
   "cols": {
    "lenName": 16,
    "lenType": 16,
    "lenVar": 40
   },
   "kernels_config": {
    "python": {
     "delete_cmd_postfix": "",
     "delete_cmd_prefix": "del ",
     "library": "var_list.py",
     "varRefreshCmd": "print(var_dic_list())"
    },
    "r": {
     "delete_cmd_postfix": ") ",
     "delete_cmd_prefix": "rm(",
     "library": "var_list.r",
     "varRefreshCmd": "cat(var_dic_list()) "
    }
   },
   "types_to_exclude": [
    "module",
    "function",
    "builtin_function_or_method",
    "instance",
    "_Feature"
   ],
   "window_display": false
  }
 },
 "nbformat": 4,
 "nbformat_minor": 5
}
