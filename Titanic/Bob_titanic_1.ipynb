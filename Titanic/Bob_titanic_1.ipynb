{
 "cells": [
  {
   "cell_type": "markdown",
   "id": "1c117727",
   "metadata": {},
   "source": [
    "#### Imports"
   ]
  },
  {
   "cell_type": "code",
   "execution_count": 1,
   "id": "1b01e079",
   "metadata": {},
   "outputs": [],
   "source": [
    "%matplotlib inline\n",
    "import pandas as pd\n",
    "import numpy as np\n",
    "import seaborn as sns\n",
    "import matplotlib.pyplot as plt\n",
    "from datetime import datetime\n",
    "\n",
    "from sklearn.preprocessing import MinMaxScaler, StandardScaler\n",
    "from sklearn.metrics import classification_report\n",
    "from sklearn.ensemble import RandomForestClassifier, GradientBoostingClassifier\n",
    "from sklearn.svm import SVC\n",
    "from sklearn.tree import DecisionTreeClassifier\n",
    "from sklearn.model_selection import RandomizedSearchCV, GridSearchCV, cross_val_score, train_test_split\n",
    "from sklearn.neighbors import KNeighborsRegressor\n",
    "\n",
    "from catboost import Pool, CatBoostClassifier\n",
    "from lightgbm import LGBMClassifier, LGBMRegressor\n",
    "from xgboost import XGBClassifier, XGBRegressor"
   ]
  },
  {
   "cell_type": "markdown",
   "id": "bf0262cb",
   "metadata": {},
   "source": [
    "#### Read CSV"
   ]
  },
  {
   "cell_type": "code",
   "execution_count": 2,
   "id": "b8d5e078",
   "metadata": {},
   "outputs": [],
   "source": [
    "def get_scores(X, ncv = 10):\n",
    "    st = timer()\n",
    "    rf0 = RandomForestClassifier(max_depth = 7)\n",
    "    svm0 = SVC()\n",
    "    xgb0 = XGBClassifier(max_depth = 7)\n",
    "\n",
    "    res0 = {}\n",
    "    res0[\"forest\"] = cross_val_score(rf0, X, target, cv=ncv).mean()\n",
    "    res0[\"svm\"] = cross_val_score(svm0, X, target, cv=ncv).mean()\n",
    "    res0[\"xgb\"] = cross_val_score(xgb0, X, target, cv=ncv).mean()\n",
    "    timer(st)\n",
    "    return res0, np.array(list(res0.values())).mean()\n",
    "\n",
    "def timer(st = None):\n",
    "    if not st:\n",
    "        return datetime.now()\n",
    "    if st:\n",
    "        h, t = divmod((datetime.now()-st).total_seconds(), 3600)\n",
    "        m, s = divmod(t, 60)\n",
    "        print(f\"{h} hours, {m} minutes and {round(s, 2)} seconds!\")"
   ]
  },
  {
   "cell_type": "code",
   "execution_count": 3,
   "id": "9d1367d7",
   "metadata": {},
   "outputs": [],
   "source": [
    "train = pd.read_csv(\"train.csv\")\n",
    "test = pd.read_csv(\"test.csv\")\n",
    "titanic = pd.concat([train, test], axis=0)\n",
    "\n",
    "Id = test.PassengerId\n",
    "target = train.Survived\n",
    "split_index = len(train)\n",
    "seed = np.random.randint(1,300)\n",
    "ncv = 30 "
   ]
  },
  {
   "cell_type": "code",
   "execution_count": 4,
   "id": "95a823af",
   "metadata": {},
   "outputs": [],
   "source": [
    "titanic.drop([\"PassengerId\"], axis=1, inplace= True)"
   ]
  },
  {
   "cell_type": "code",
   "execution_count": 5,
   "id": "9e7f6e59",
   "metadata": {},
   "outputs": [],
   "source": [
    "titanic.Age = titanic.Age.fillna(titanic.Age.median())\n",
    "titanic.Fare = titanic.Fare.fillna(titanic.Fare.median())\n",
    "titanic.Embarked = titanic.Embarked.fillna(titanic.Embarked.mode()[0])"
   ]
  },
  {
   "cell_type": "markdown",
   "id": "a884fc41",
   "metadata": {},
   "source": [
    "#### Features for test"
   ]
  },
  {
   "cell_type": "code",
   "execution_count": 61,
   "id": "a39d598a",
   "metadata": {},
   "outputs": [],
   "source": [
    "dop_features = pd.DataFrame()\n",
    "dop_features[\"Family\"] = titanic.Parch + titanic.SibSp + 1\n",
    "dop_features[\"IsAlong\"] = dop_features.Family.map(lambda x: 1 if x==1 else 0)\n",
    "titanic.Cabin = titanic.Cabin.fillna(\"NAN\")\n",
    "dop_features[\"Cabin_First\"] = titanic.Cabin.map(lambda x: x[0])\n",
    "dop_features[\"IsCabin\"] = titanic.Cabin.map(lambda x: 1 if x != \"NAN\" else 0)\n",
    "dop_features[\"Ticket_First\"] = titanic.Ticket.map(lambda x: x[0])\n",
    "dop_features[\"Ticket_First_Bin\"] = dop_features.Ticket_First.replace([\"4\",\"5\",\"6\",\"7\",\"8\",\"9\", \"A\",\"L\",\"W\"],\"new1\").replace(\"F\",\"C\")\n",
    "dop_features[\"Title\"] = titanic.Name.map(lambda x: x.split(\",\")[1].split(\".\")[0].strip())\n",
    "dop_features[\"Title_Bin\"] = dop_features.Title.replace([\"Capt\", \"Col\", \"Don\", \"Dona\", \"Dr\", \"Jonkheer\", \"Lady\", \"Major\",\n",
    "                                                       \"Mlle\", \"Mme\", \"Ms\", \"Rev\", \"Sir\", \"the Countess\"],\"Other\").replace([\"Mrs\",\"Miss\"], \"Mrs\")\n",
    "dop_features[\"Surname\"] = titanic.Name.map(lambda x: x.split(\" \")[0].strip())"
   ]
  },
  {
   "cell_type": "code",
   "execution_count": 7,
   "id": "05844108",
   "metadata": {},
   "outputs": [
    {
     "data": {
      "text/html": [
       "<div>\n",
       "<style scoped>\n",
       "    .dataframe tbody tr th:only-of-type {\n",
       "        vertical-align: middle;\n",
       "    }\n",
       "\n",
       "    .dataframe tbody tr th {\n",
       "        vertical-align: top;\n",
       "    }\n",
       "\n",
       "    .dataframe thead th {\n",
       "        text-align: right;\n",
       "    }\n",
       "</style>\n",
       "<table border=\"1\" class=\"dataframe\">\n",
       "  <thead>\n",
       "    <tr style=\"text-align: right;\">\n",
       "      <th></th>\n",
       "      <th>Survived</th>\n",
       "      <th>Age</th>\n",
       "      <th>Fare</th>\n",
       "      <th>Pclass</th>\n",
       "      <th>Ticket</th>\n",
       "    </tr>\n",
       "    <tr>\n",
       "      <th>Title_Bin</th>\n",
       "      <th></th>\n",
       "      <th></th>\n",
       "      <th></th>\n",
       "      <th></th>\n",
       "      <th></th>\n",
       "    </tr>\n",
       "  </thead>\n",
       "  <tbody>\n",
       "    <tr>\n",
       "      <th>Master</th>\n",
       "      <td>0.575000</td>\n",
       "      <td>6.0</td>\n",
       "      <td>26.0000</td>\n",
       "      <td>2.655738</td>\n",
       "      <td>61</td>\n",
       "    </tr>\n",
       "    <tr>\n",
       "      <th>Mr</th>\n",
       "      <td>0.156673</td>\n",
       "      <td>28.0</td>\n",
       "      <td>9.6875</td>\n",
       "      <td>2.381770</td>\n",
       "      <td>757</td>\n",
       "    </tr>\n",
       "    <tr>\n",
       "      <th>Mrs</th>\n",
       "      <td>0.736156</td>\n",
       "      <td>28.0</td>\n",
       "      <td>22.3583</td>\n",
       "      <td>2.170678</td>\n",
       "      <td>457</td>\n",
       "    </tr>\n",
       "    <tr>\n",
       "      <th>Other</th>\n",
       "      <td>0.444444</td>\n",
       "      <td>43.0</td>\n",
       "      <td>29.5000</td>\n",
       "      <td>1.382353</td>\n",
       "      <td>34</td>\n",
       "    </tr>\n",
       "  </tbody>\n",
       "</table>\n",
       "</div>"
      ],
      "text/plain": [
       "           Survived   Age     Fare    Pclass  Ticket\n",
       "Title_Bin                                           \n",
       "Master     0.575000   6.0  26.0000  2.655738      61\n",
       "Mr         0.156673  28.0   9.6875  2.381770     757\n",
       "Mrs        0.736156  28.0  22.3583  2.170678     457\n",
       "Other      0.444444  43.0  29.5000  1.382353      34"
      ]
     },
     "execution_count": 7,
     "metadata": {},
     "output_type": "execute_result"
    }
   ],
   "source": [
    "pd.concat([titanic, dop_features], axis=1).groupby(\"Title_Bin\").agg({\"Survived\":\"mean\", \"Age\":\"median\", \"Fare\":\"median\",\n",
    "                                                            \"Pclass\":\"mean\",\"Ticket\":\"count\"})"
   ]
  },
  {
   "cell_type": "markdown",
   "id": "e144e125",
   "metadata": {},
   "source": [
    "#### 0 solution"
   ]
  },
  {
   "cell_type": "markdown",
   "id": "fa096d73",
   "metadata": {},
   "source": [
    "Пустое решение, чтобы \"минимум\" модели. Используем фичи без пропусков (класс, пол, братья/сёстры/родственники) "
   ]
  },
  {
   "cell_type": "code",
   "execution_count": 8,
   "id": "d8641308",
   "metadata": {},
   "outputs": [
    {
     "name": "stdout",
     "output_type": "stream",
     "text": [
      "0.0 hours, 0.0 minutes and 5.54 seconds!\n"
     ]
    },
    {
     "data": {
      "text/plain": [
       "({'forest': 0.7766666666666666,\n",
       "  'svm': 0.8079693486590038,\n",
       "  'xgb': 0.7743678160919542},\n",
       " 0.7863346104725415)"
      ]
     },
     "execution_count": 8,
     "metadata": {},
     "output_type": "execute_result"
    }
   ],
   "source": [
    "df0 = titanic.drop([\"Name\", \"Ticket\", \"Cabin\", \"Embarked\", \"Fare\", \"Age\", \"Survived\"], axis=1)[:split_index]\n",
    "X0 = MinMaxScaler().fit_transform(np.array(pd.get_dummies(df0[:split_index], columns=[\"Sex\"], drop_first=True)))\n",
    "get_scores(X0, ncv)"
   ]
  },
  {
   "cell_type": "markdown",
   "id": "3d23c85e",
   "metadata": {},
   "source": [
    "#### 1 solution"
   ]
  },
  {
   "cell_type": "markdown",
   "id": "def9a680",
   "metadata": {},
   "source": [
    "Заполнили Embarked, Age, Fare обычными агрегаторами (медиана и мода)"
   ]
  },
  {
   "cell_type": "code",
   "execution_count": 9,
   "id": "c56b6e6e",
   "metadata": {},
   "outputs": [],
   "source": [
    "df1 = titanic.drop([\"Survived\", \"Cabin\", \"Ticket\", \"Name\"], axis=1)"
   ]
  },
  {
   "cell_type": "code",
   "execution_count": 10,
   "id": "9e57173d",
   "metadata": {},
   "outputs": [
    {
     "name": "stdout",
     "output_type": "stream",
     "text": [
      "0.0 hours, 0.0 minutes and 6.18 seconds!\n"
     ]
    },
    {
     "data": {
      "text/plain": [
       "({'forest': 0.8226819923371647,\n",
       "  'svm': 0.8112643678160919,\n",
       "  'xgb': 0.8148275862068967},\n",
       " 0.816257982120051)"
      ]
     },
     "execution_count": 10,
     "metadata": {},
     "output_type": "execute_result"
    }
   ],
   "source": [
    "X1 = MinMaxScaler().fit_transform(np.array(pd.get_dummies(df1[:split_index], columns=[\"Sex\", \"Embarked\"], drop_first=True)))\n",
    "get_scores(X1, ncv)"
   ]
  },
  {
   "cell_type": "markdown",
   "id": "0c248d49",
   "metadata": {},
   "source": [
    "#### 2 solution"
   ]
  },
  {
   "cell_type": "markdown",
   "id": "90944066",
   "metadata": {},
   "source": [
    "Пробуем добавить букву билета, есть ли данные о кабине и титул человека"
   ]
  },
  {
   "cell_type": "code",
   "execution_count": 11,
   "id": "d68975c2",
   "metadata": {},
   "outputs": [],
   "source": [
    "df2 = pd.concat([titanic, dop_features[[\"IsCabin\", \"Ticket_First\", \"Title\"]]], axis=1).drop([\"Survived\", \"Cabin\", \"Ticket\",\n",
    "                                                                                     \"Name\"], axis=1)"
   ]
  },
  {
   "cell_type": "code",
   "execution_count": 12,
   "id": "579ce85c",
   "metadata": {},
   "outputs": [
    {
     "name": "stdout",
     "output_type": "stream",
     "text": [
      "0.0 hours, 0.0 minutes and 6.83 seconds!\n"
     ]
    },
    {
     "data": {
      "text/plain": [
       "({'forest': 0.8293486590038314,\n",
       "  'svm': 0.8225670498084291,\n",
       "  'xgb': 0.8204980842911876},\n",
       " 0.8241379310344827)"
      ]
     },
     "execution_count": 12,
     "metadata": {},
     "output_type": "execute_result"
    }
   ],
   "source": [
    "X2 = MinMaxScaler().fit_transform(np.array(pd.get_dummies(df2[:split_index], columns=[\"Sex\", \"Embarked\",\"Title\",\n",
    "                                                                                 \"Ticket_First\"], drop_first=True)))\n",
    "get_scores(X2, ncv)"
   ]
  },
  {
   "cell_type": "markdown",
   "id": "58600ee8",
   "metadata": {},
   "source": [
    " "
   ]
  },
  {
   "cell_type": "markdown",
   "id": "78f16218",
   "metadata": {},
   "source": [
    "#### 3 solution"
   ]
  },
  {
   "cell_type": "markdown",
   "id": "d98fb1cc",
   "metadata": {},
   "source": [
    "Пробуем повторить 2, только без информации о кабине (т. к. в ней и так много пропусков)"
   ]
  },
  {
   "cell_type": "code",
   "execution_count": 13,
   "id": "a1abdf78",
   "metadata": {},
   "outputs": [],
   "source": [
    "df3 = pd.concat([titanic, dop_features[[\"Ticket_First\", \"Title\"]]], axis=1).drop([\"Survived\", \"Cabin\", \"Ticket\",\n",
    "                                                                                     \"Name\"], axis=1)"
   ]
  },
  {
   "cell_type": "code",
   "execution_count": 14,
   "id": "0a34472b",
   "metadata": {},
   "outputs": [
    {
     "name": "stdout",
     "output_type": "stream",
     "text": [
      "0.0 hours, 0.0 minutes and 7.83 seconds!\n"
     ]
    },
    {
     "data": {
      "text/plain": [
       "({'forest': 0.8282375478927201,\n",
       "  'svm': 0.8214559386973178,\n",
       "  'xgb': 0.8192337164750956},\n",
       " 0.8229757343550445)"
      ]
     },
     "execution_count": 14,
     "metadata": {},
     "output_type": "execute_result"
    }
   ],
   "source": [
    "X3 = MinMaxScaler().fit_transform(np.array(pd.get_dummies(df3[:split_index], columns=[\"Sex\", \"Embarked\",\"Title\",\n",
    "                                                                                 \"Ticket_First\"], drop_first=True)))\n",
    "get_scores(X3, ncv)"
   ]
  },
  {
   "cell_type": "markdown",
   "id": "7c79c3ab",
   "metadata": {},
   "source": [
    "#### 4 solution"
   ]
  },
  {
   "cell_type": "markdown",
   "id": "1d05ebb3",
   "metadata": {},
   "source": [
    "Сгруппируем билеты и титулы"
   ]
  },
  {
   "cell_type": "code",
   "execution_count": 15,
   "id": "20f29bcf",
   "metadata": {},
   "outputs": [],
   "source": [
    "df4 = pd.concat([titanic, dop_features[[\"IsCabin\",\"Ticket_First_Bin\", \"Title_Bin\"]]], axis=1).drop([\"Survived\", \"Cabin\", \"Ticket\",\n",
    "                                                                                     \"Name\"], axis=1)"
   ]
  },
  {
   "cell_type": "code",
   "execution_count": 16,
   "id": "b96cc810",
   "metadata": {},
   "outputs": [
    {
     "name": "stdout",
     "output_type": "stream",
     "text": [
      "0.0 hours, 0.0 minutes and 6.31 seconds!\n"
     ]
    },
    {
     "data": {
      "text/plain": [
       "({'forest': 0.8328352490421456,\n",
       "  'svm': 0.8193103448275862,\n",
       "  'xgb': 0.8271647509578544},\n",
       " 0.8264367816091953)"
      ]
     },
     "execution_count": 16,
     "metadata": {},
     "output_type": "execute_result"
    }
   ],
   "source": [
    "X4 = MinMaxScaler().fit_transform(np.array(pd.get_dummies(df4[:split_index], columns=[\"Sex\", \"Embarked\",\"Title_Bin\",\n",
    "                                                                                 \"Ticket_First_Bin\"], drop_first=True)))\n",
    "get_scores(X4, ncv)"
   ]
  },
  {
   "cell_type": "markdown",
   "id": "cfcae3bd",
   "metadata": {},
   "source": [
    "#### 5 solution"
   ]
  },
  {
   "cell_type": "markdown",
   "id": "5a1fdf93",
   "metadata": {},
   "source": [
    "Попробуем решить задачу с пересечением фичей и их группировок. Есть результат НЕ БУДЕТ ЛУЧШЕ - данную практику уберём с целью сохранения мощностей"
   ]
  },
  {
   "cell_type": "code",
   "execution_count": 17,
   "id": "cd6fed44",
   "metadata": {},
   "outputs": [],
   "source": [
    "df5 = pd.concat([titanic, dop_features[[\"IsCabin\",\"Ticket_First_Bin\", \"Title_Bin\", \"Title\",\n",
    "                                        \"Ticket_First\"]]], axis=1).drop([\"Survived\", \"Cabin\", \"Ticket\", \"Name\"], axis=1)"
   ]
  },
  {
   "cell_type": "code",
   "execution_count": 18,
   "id": "2b9511c5",
   "metadata": {},
   "outputs": [
    {
     "name": "stdout",
     "output_type": "stream",
     "text": [
      "0.0 hours, 0.0 minutes and 7.25 seconds!\n"
     ]
    },
    {
     "data": {
      "text/plain": [
       "({'forest': 0.8315325670498085,\n",
       "  'svm': 0.820344827586207,\n",
       "  'xgb': 0.8238697318007662},\n",
       " 0.8252490421455939)"
      ]
     },
     "execution_count": 18,
     "metadata": {},
     "output_type": "execute_result"
    }
   ],
   "source": [
    "X5 = MinMaxScaler().fit_transform(np.array(pd.get_dummies(df5[:split_index], columns=[\"Sex\", \"Embarked\",\"Title_Bin\",\n",
    "                                                                \"Ticket_First_Bin\", \"Title\", \"Ticket_First\"], drop_first=True)))\n",
    "get_scores(X5, ncv)"
   ]
  },
  {
   "cell_type": "markdown",
   "id": "e37f4a2e",
   "metadata": {},
   "source": [
    "#### 6 solution"
   ]
  },
  {
   "cell_type": "markdown",
   "id": "0602e2a2",
   "metadata": {},
   "source": [
    "Попробуем заменить братьев/сестёр/родственников на фичи \"Family\" и \"IsAlong\""
   ]
  },
  {
   "cell_type": "code",
   "execution_count": 19,
   "id": "4345f492",
   "metadata": {},
   "outputs": [],
   "source": [
    "df6 = pd.concat([titanic, dop_features[[\"IsCabin\",\"Ticket_First_Bin\", \"Title_Bin\",\n",
    "                                        \"Family\", \"IsAlong\"]]], axis=1).drop([\"Survived\", \"Cabin\", \"Ticket\", \"Name\", \"SibSp\", \"Parch\"], axis=1)"
   ]
  },
  {
   "cell_type": "code",
   "execution_count": 20,
   "id": "afb1632f",
   "metadata": {},
   "outputs": [
    {
     "name": "stdout",
     "output_type": "stream",
     "text": [
      "0.0 hours, 0.0 minutes and 6.42 seconds!\n"
     ]
    },
    {
     "data": {
      "text/plain": [
       "({'forest': 0.8394252873563217,\n",
       "  'svm': 0.8192337164750957,\n",
       "  'xgb': 0.8192337164750956},\n",
       " 0.825964240102171)"
      ]
     },
     "execution_count": 20,
     "metadata": {},
     "output_type": "execute_result"
    }
   ],
   "source": [
    "X6 = MinMaxScaler().fit_transform(np.array(pd.get_dummies(df6[:split_index], columns=[\"Sex\", \"Embarked\",\"Title_Bin\",\n",
    "                                                                                 \"Ticket_First_Bin\"], drop_first=True)))\n",
    "get_scores(X6, ncv)"
   ]
  },
  {
   "cell_type": "markdown",
   "id": "581686a3",
   "metadata": {},
   "source": [
    "#### 7 solution"
   ]
  },
  {
   "cell_type": "markdown",
   "id": "d4b35ce3",
   "metadata": {},
   "source": [
    "Попробуем заполнить Embarked, Fare и Age с помощью группировки, при этом будем использовать группировку категориальных фичей из решения 4"
   ]
  },
  {
   "cell_type": "code",
   "execution_count": 21,
   "id": "d39ff058",
   "metadata": {},
   "outputs": [],
   "source": [
    "df7 = pd.concat([titanic, dop_features[[\"IsCabin\",\"Ticket_First_Bin\", \"Title_Bin\"]]], axis=1).drop([\"Survived\", \"Cabin\", \"Ticket\",\n",
    "                                                                                     \"Name\"], axis=1)"
   ]
  },
  {
   "cell_type": "code",
   "execution_count": 22,
   "id": "22a5ce10",
   "metadata": {},
   "outputs": [],
   "source": [
    "df7[\"Age\"] = pd.concat([train, test], axis=0).Age\n",
    "df7[\"Embarked\"] = pd.concat([train, test], axis=0).Embarked\n",
    "df7[\"Fare\"] = pd.concat([train, test], axis=0).Fare"
   ]
  },
  {
   "cell_type": "code",
   "execution_count": 23,
   "id": "ab823ac6",
   "metadata": {
    "collapsed": true
   },
   "outputs": [
    {
     "name": "stderr",
     "output_type": "stream",
     "text": [
      "D:\\Conda\\envs\\based\\lib\\site-packages\\numpy\\lib\\nanfunctions.py:1216: RuntimeWarning: Mean of empty slice\n",
      "  return np.nanmean(a, axis, out=out, keepdims=keepdims)\n",
      "D:\\Conda\\envs\\based\\lib\\site-packages\\numpy\\lib\\nanfunctions.py:1216: RuntimeWarning: Mean of empty slice\n",
      "  return np.nanmean(a, axis, out=out, keepdims=keepdims)\n",
      "D:\\Conda\\envs\\based\\lib\\site-packages\\numpy\\lib\\nanfunctions.py:1216: RuntimeWarning: Mean of empty slice\n",
      "  return np.nanmean(a, axis, out=out, keepdims=keepdims)\n",
      "D:\\Conda\\envs\\based\\lib\\site-packages\\numpy\\lib\\nanfunctions.py:1216: RuntimeWarning: Mean of empty slice\n",
      "  return np.nanmean(a, axis, out=out, keepdims=keepdims)\n"
     ]
    }
   ],
   "source": [
    "df7.Embarked = df7.Embarked.fillna(\"S\")\n",
    "df7.Fare = df7.Fare.fillna(7.8958)\n",
    "df7.Age = df7.groupby([\"Pclass\", \"Sex\", \"Embarked\", \"IsCabin\", \"Title_Bin\"])[\"Age\"].transform(lambda x: x.fillna(x.median()))\n",
    "df7.Age = df7.groupby([\"Pclass\", \"Sex\", \"Embarked\"])[\"Age\"].transform(lambda x: x.fillna(x.median()))"
   ]
  },
  {
   "cell_type": "code",
   "execution_count": 24,
   "id": "8726e264",
   "metadata": {},
   "outputs": [
    {
     "name": "stdout",
     "output_type": "stream",
     "text": [
      "0.0 hours, 0.0 minutes and 6.36 seconds!\n"
     ]
    },
    {
     "data": {
      "text/plain": [
       "({'forest': 0.8384291187739463,\n",
       "  'svm': 0.8193103448275862,\n",
       "  'xgb': 0.8271647509578544},\n",
       " 0.828301404853129)"
      ]
     },
     "execution_count": 24,
     "metadata": {},
     "output_type": "execute_result"
    }
   ],
   "source": [
    "X7 = MinMaxScaler().fit_transform(np.array(pd.get_dummies(df4[:split_index], columns=[\"Sex\", \"Embarked\",\"Title_Bin\",\n",
    "                                                                                 \"Ticket_First_Bin\"], drop_first=True)))\n",
    "get_scores(X7, ncv)"
   ]
  },
  {
   "cell_type": "markdown",
   "id": "76f251e2",
   "metadata": {},
   "source": [
    "#### 8 solution"
   ]
  },
  {
   "cell_type": "markdown",
   "id": "81631ac4",
   "metadata": {},
   "source": [
    "ТЗаполним Age с помощью knn, а не группировки"
   ]
  },
  {
   "cell_type": "code",
   "execution_count": 25,
   "id": "de9ad9b1",
   "metadata": {},
   "outputs": [],
   "source": [
    "df8 = pd.concat([titanic, dop_features[[\"IsCabin\",\"Ticket_First_Bin\", \"Title_Bin\"]]], axis=1).drop([\"Survived\", \"Cabin\", \"Ticket\",\n",
    "                                                                                     \"Name\"], axis=1)\n",
    "df8[\"Age\"] = pd.concat([train, test], axis=0).Age\n",
    "df8[\"Embarked\"] = pd.concat([train, test], axis=0).Embarked\n",
    "df8[\"Fare\"] = pd.concat([train, test], axis=0).Fare\n",
    "df8.Embarked = df8.Embarked.fillna(\"S\")\n",
    "df8.Fare = df8.Fare.fillna(7.8958)"
   ]
  },
  {
   "cell_type": "code",
   "execution_count": 26,
   "id": "6896b474",
   "metadata": {},
   "outputs": [],
   "source": [
    "df_age = pd.get_dummies(df8, columns=[\"Sex\", \"Embarked\", \"Ticket_First_Bin\", \"Title_Bin\"])\n",
    "df_age_train = df_age[df_age.Age.isna()==False]\n",
    "X_AGE = MinMaxScaler().fit_transform(df_age[df_age.Age.isna()==True].drop(\"Age\", axis=1))\n",
    "y_age = df_age_train.Age\n",
    "X_age = MinMaxScaler().fit_transform(df_age_train.drop(\"Age\", axis=1))"
   ]
  },
  {
   "cell_type": "code",
   "execution_count": 27,
   "id": "cc0acf8e",
   "metadata": {
    "collapsed": true
   },
   "outputs": [
    {
     "name": "stdout",
     "output_type": "stream",
     "text": [
      "0.0 hours, 0.0 minutes and 10.41 seconds!\n"
     ]
    },
    {
     "name": "stderr",
     "output_type": "stream",
     "text": [
      "D:\\Conda\\envs\\based\\lib\\site-packages\\sklearn\\model_selection\\_validation.py:372: FitFailedWarning: \n",
      "240 fits failed out of a total of 12000.\n",
      "The score on these train-test partitions for these parameters will be set to nan.\n",
      "If these failures are not expected, you can try to debug them by setting error_score='raise'.\n",
      "\n",
      "Below are more details about the failures:\n",
      "--------------------------------------------------------------------------------\n",
      "240 fits failed with the following error:\n",
      "Traceback (most recent call last):\n",
      "  File \"D:\\Conda\\envs\\based\\lib\\site-packages\\sklearn\\model_selection\\_validation.py\", line 680, in _fit_and_score\n",
      "    estimator.fit(X_train, y_train, **fit_params)\n",
      "  File \"D:\\Conda\\envs\\based\\lib\\site-packages\\sklearn\\neighbors\\_regression.py\", line 213, in fit\n",
      "    return self._fit(X, y)\n",
      "  File \"D:\\Conda\\envs\\based\\lib\\site-packages\\sklearn\\neighbors\\_base.py\", line 569, in _fit\n",
      "    raise ValueError(\"Expected n_neighbors > 0. Got %d\" % self.n_neighbors)\n",
      "ValueError: Expected n_neighbors > 0. Got 0\n",
      "\n",
      "  warnings.warn(some_fits_failed_message, FitFailedWarning)\n",
      "D:\\Conda\\envs\\based\\lib\\site-packages\\sklearn\\model_selection\\_search.py:969: UserWarning: One or more of the test scores are non-finite: [        nan         nan -0.37066852 -0.37066852 -0.00854968 -0.10005925\n",
      "  0.08665157 -0.01373689  0.14779261  0.01968407  0.17699912  0.04044833\n",
      "  0.18768295  0.05245334  0.20236083  0.06087247  0.20367046  0.06505151\n",
      "  0.20954187  0.07370275  0.20512896  0.07777952  0.21231433  0.08118386\n",
      "  0.2158032   0.08366464  0.21385933  0.08467751  0.21380677  0.08660057\n",
      "  0.21714282  0.0918764   0.21965617  0.09354284  0.22571391  0.09626279\n",
      "  0.22746057  0.09733869  0.22939704  0.0976099   0.22957792  0.09829045\n",
      "  0.22928174  0.09883139  0.23127212  0.09895367  0.22936393  0.09967927\n",
      "  0.22576875  0.09897006  0.22363169  0.09887452  0.22037461  0.09759732\n",
      "  0.22147873  0.09864243  0.21974376  0.09837031  0.21787245  0.09778152\n",
      "  0.21602443  0.09824457  0.21440313  0.0981429   0.21088528  0.09823267\n",
      "  0.20734851  0.09851055  0.20283108  0.09747275  0.20080433  0.09821897\n",
      "  0.2015941   0.09881055  0.20291049  0.09898496  0.20176978  0.09866978\n",
      "  0.19925811  0.09834899  0.198989    0.09788317  0.19652695  0.09742896\n",
      "  0.19559174  0.09693385  0.19557444  0.0965597   0.19468154  0.0966779\n",
      "  0.19427707  0.09634487  0.19387598  0.09645978  0.19374754  0.09688284\n",
      "  0.19273709  0.09663557  0.19238767  0.09660655         nan         nan\n",
      " -0.32115242 -0.32115242  0.00992089 -0.08402602  0.07478567 -0.02444024\n",
      "  0.14759804  0.02075091  0.16242386  0.02880158  0.18744829  0.05126058\n",
      "  0.19632533  0.06026969  0.20016428  0.06309156  0.20860762  0.07212074\n",
      "  0.20359893  0.07723347  0.21158934  0.08272722  0.21195573  0.08289044\n",
      "  0.21565321  0.08409658  0.21823276  0.08824942  0.21597454  0.09367461\n",
      "  0.22366069  0.09725307  0.22624067  0.09778574  0.22812333  0.09863805\n",
      "  0.22797833  0.09743445  0.22646475  0.09920777  0.22958583  0.09833656\n",
      "  0.23219499  0.09948693  0.23038387  0.09906226  0.22449969  0.09764049\n",
      "  0.22253406  0.09802049  0.22057227  0.09657259  0.21976859  0.09851457\n",
      "  0.21793733  0.09764536  0.21655852  0.09811994  0.21653667  0.09781833\n",
      "  0.21204407  0.09764715  0.21020281  0.09816481  0.20543141  0.09846922\n",
      "  0.20329235  0.09797619  0.20191892  0.09806422  0.20342341  0.0989735\n",
      "  0.20449977  0.0991393   0.20061467  0.09833675  0.20025342  0.09831898\n",
      "  0.19786942  0.09781017  0.1959445   0.0974428   0.19612311  0.09698575\n",
      "  0.19602049  0.09681222  0.19582433  0.09727934  0.19641998  0.09677744\n",
      "  0.19601738  0.09718778  0.19383305  0.09663657  0.19312846  0.09687484\n",
      "  0.19096722  0.09641622         nan         nan -0.31965055 -0.31965055\n",
      "  0.0028853  -0.08723383  0.07252404 -0.02661621  0.14292791  0.01850988\n",
      "  0.16338125  0.02870923  0.19001056  0.05092737  0.19667245  0.0610959\n",
      "  0.19320274  0.0608271   0.20256585  0.07000519  0.2003213   0.07541397\n",
      "  0.21110021  0.08132908  0.21504495  0.08347402  0.21357691  0.08350709\n",
      "  0.21540513  0.08701633  0.21766152  0.09367484  0.22365345  0.09637353\n",
      "  0.22855149  0.09880414  0.22769717  0.09879329  0.2299222   0.09917013\n",
      "  0.22776168  0.09896894  0.23007584  0.10010683  0.2308253   0.09999505\n",
      "  0.22908887  0.09901152  0.22418611  0.09790004  0.22375741  0.09825396\n",
      "  0.21961702  0.09722009  0.2210237   0.09827196  0.21940633  0.09776715\n",
      "  0.21820309  0.0981718   0.21662655  0.09867465  0.21497887  0.09903264\n",
      "  0.21094397  0.0990313   0.20826485  0.09913022  0.20294074  0.09757716\n",
      "  0.20207387  0.09832916  0.20416891  0.09852348  0.20505643  0.09850244\n",
      "  0.20222286  0.09838475  0.20135989  0.09821681  0.19861153  0.09780021\n",
      "  0.19625348  0.09766798  0.19518934  0.09718489  0.19632194  0.09707595\n",
      "  0.19592437  0.09687259  0.19591945  0.09640602  0.19561713  0.09648756\n",
      "  0.19364232  0.09680883  0.19454517  0.09686063  0.19165923  0.09645376\n",
      "         nan         nan -0.37066852 -0.37066852 -0.00854968 -0.10005925\n",
      "  0.08665157 -0.01373689  0.14779261  0.01968407  0.17699912  0.04044833\n",
      "  0.18768295  0.05245334  0.20236083  0.06087247  0.20367046  0.06505151\n",
      "  0.20954187  0.07370275  0.20512896  0.07777952  0.21231433  0.08118386\n",
      "  0.2158032   0.08366464  0.21385933  0.08467751  0.21380677  0.08660057\n",
      "  0.21714282  0.0918764   0.21965617  0.09354284  0.22571391  0.09626279\n",
      "  0.22746057  0.09733869  0.22939704  0.0976099   0.22957792  0.09829045\n",
      "  0.22928174  0.09883139  0.23127212  0.09895367  0.22936393  0.09967927\n",
      "  0.22576875  0.09897006  0.22363169  0.09887452  0.22037461  0.09759732\n",
      "  0.22147873  0.09864243  0.21974376  0.09837031  0.21787245  0.09778152\n",
      "  0.21602443  0.09824457  0.21440313  0.0981429   0.21088528  0.09823267\n",
      "  0.20734851  0.09851055  0.20283108  0.09747275  0.20080433  0.09821897\n",
      "  0.2015941   0.09881055  0.20291049  0.09898496  0.20176978  0.09866978\n",
      "  0.19925811  0.09834899  0.198989    0.09788317  0.19652695  0.09742896\n",
      "  0.19559174  0.09693385  0.19557444  0.0965597   0.19468154  0.0966779\n",
      "  0.19427707  0.09634487  0.19387598  0.09645978  0.19374754  0.09688284\n",
      "  0.19273709  0.09663557  0.19238767  0.09660655]\n",
      "  warnings.warn(\n"
     ]
    }
   ],
   "source": [
    "knn = KNeighborsRegressor()\n",
    "p = {\"n_neighbors\":range(50),\n",
    "    \"weights\" : ['uniform', 'distance'],\n",
    "    \"algorithm\" : ['auto', 'ball_tree', 'kd_tree', 'brute']}\n",
    "g_age = GridSearchCV(knn, p, cv=ncv, n_jobs=-1)\n",
    "st = timer()\n",
    "g_age.fit(X_age, y_age)\n",
    "timer(st)\n",
    "knn = g_age.best_estimator_"
   ]
  },
  {
   "cell_type": "code",
   "execution_count": 28,
   "id": "4724c1d0",
   "metadata": {},
   "outputs": [],
   "source": [
    "df8.loc[df8.Age.isna()==True, \"Age\"] = knn.predict(X_AGE)"
   ]
  },
  {
   "cell_type": "code",
   "execution_count": 29,
   "id": "a9d77ce8",
   "metadata": {},
   "outputs": [
    {
     "name": "stdout",
     "output_type": "stream",
     "text": [
      "0.0 hours, 0.0 minutes and 6.62 seconds!\n"
     ]
    },
    {
     "data": {
      "text/plain": [
       "({'forest': 0.8327586206896551,\n",
       "  'svm': 0.8193103448275862,\n",
       "  'xgb': 0.8271647509578544},\n",
       " 0.826411238825032)"
      ]
     },
     "execution_count": 29,
     "metadata": {},
     "output_type": "execute_result"
    }
   ],
   "source": [
    "X8 = MinMaxScaler().fit_transform(np.array(pd.get_dummies(df8[:split_index], columns=[\"Sex\", \"Embarked\",\"Title_Bin\",\n",
    "                                                                                 \"Ticket_First_Bin\"], drop_first=True)))\n",
    "get_scores(X8, ncv)"
   ]
  },
  {
   "cell_type": "markdown",
   "id": "1436c82d",
   "metadata": {},
   "source": [
    "#### 9 solution"
   ]
  },
  {
   "cell_type": "markdown",
   "id": "f86d7167",
   "metadata": {},
   "source": [
    "А если заполнить более сложным алгоритмом? XGBReg!"
   ]
  },
  {
   "cell_type": "code",
   "execution_count": 30,
   "id": "4700a811",
   "metadata": {},
   "outputs": [],
   "source": [
    "df9 = pd.concat([titanic, dop_features[[\"IsCabin\",\"Ticket_First_Bin\", \"Title_Bin\"]]], axis=1).drop([\"Survived\", \"Cabin\", \"Ticket\",\n",
    "                                                                                     \"Name\"], axis=1)\n",
    "df9[\"Age\"] = pd.concat([train, test], axis=0).Age\n",
    "df9[\"Embarked\"] = pd.concat([train, test], axis=0).Embarked\n",
    "df9[\"Fare\"] = pd.concat([train, test], axis=0).Fare\n",
    "df9.Embarked = df8.Embarked.fillna(\"S\")\n",
    "df9.Fare = df8.Fare.fillna(7.8958)"
   ]
  },
  {
   "cell_type": "code",
   "execution_count": 31,
   "id": "fb962d5a",
   "metadata": {},
   "outputs": [
    {
     "name": "stdout",
     "output_type": "stream",
     "text": [
      "[LightGBM] [Warning] Unknown parameter: num_leaves:\n",
      "0.0 hours, 0.0 minutes and 0.32 seconds!\n"
     ]
    }
   ],
   "source": [
    "lgb = LGBMRegressor()\n",
    "p = {\"num_leaves:\":range(15,150,5),\n",
    "    \"max_depth\": range(3,18,2),\n",
    "    \"learning_rate\":[0.01, 0.75, 0.05, 0.1, 0.125, 0.15, 0.2],\n",
    "    \"n_estimators\":range(15,150,15),\n",
    "    \"min_child_weight\":[0.001, 0.005, 0.01, 0.05, 0.1, 0.5, 1.0],\n",
    "    \"min_child_samples\":range(5, 40, 4)}\n",
    "grid_age = RandomizedSearchCV(lgb, p, n_jobs=-1,cv=5, n_iter=1, scoring=\"r2\")\n",
    "st = timer()\n",
    "grid_age.fit(X_age, y_age)\n",
    "timer(st)"
   ]
  },
  {
   "cell_type": "code",
   "execution_count": 32,
   "id": "7f100eed",
   "metadata": {},
   "outputs": [
    {
     "data": {
      "text/plain": [
       "0.19607115567240432"
      ]
     },
     "execution_count": 32,
     "metadata": {},
     "output_type": "execute_result"
    }
   ],
   "source": [
    "grid_age.best_score_"
   ]
  },
  {
   "cell_type": "code",
   "execution_count": 33,
   "id": "cf8edb5a",
   "metadata": {},
   "outputs": [],
   "source": [
    "lgb = grid_age.best_estimator_\n",
    "df9.loc[df9.Age.isna()==True, \"Age\"] = lgb.predict(X_AGE)"
   ]
  },
  {
   "cell_type": "code",
   "execution_count": 34,
   "id": "d6c25d22",
   "metadata": {},
   "outputs": [
    {
     "name": "stdout",
     "output_type": "stream",
     "text": [
      "0.0 hours, 0.0 minutes and 7.21 seconds!\n"
     ]
    },
    {
     "data": {
      "text/plain": [
       "({'forest': 0.8372030651340995,\n",
       "  'svm': 0.8193103448275862,\n",
       "  'xgb': 0.8146743295019155},\n",
       " 0.8237292464878672)"
      ]
     },
     "execution_count": 34,
     "metadata": {},
     "output_type": "execute_result"
    }
   ],
   "source": [
    "X9 = MinMaxScaler().fit_transform(np.array(pd.get_dummies(df9[:split_index], columns=[\"Sex\", \"Embarked\",\"Title_Bin\",\n",
    "                                                                                 \"Ticket_First_Bin\"], drop_first=True)))\n",
    "get_scores(X9, ncv)"
   ]
  },
  {
   "cell_type": "markdown",
   "id": "4f39dd8c",
   "metadata": {},
   "source": [
    "Не было разницы чем заполнить, поэтому оставим самый простой метод - группировку"
   ]
  },
  {
   "cell_type": "code",
   "execution_count": 35,
   "id": "6f31633d",
   "metadata": {},
   "outputs": [],
   "source": [
    "titanic.Embarked = df7.Embarked\n",
    "titanic.Fare = df7.Fare\n",
    "titanic.Age = df7.Age"
   ]
  },
  {
   "cell_type": "markdown",
   "id": "b77cfab0",
   "metadata": {},
   "source": [
    "#### 10 solution"
   ]
  },
  {
   "cell_type": "markdown",
   "id": "07cc8818",
   "metadata": {},
   "source": [
    "Попробуем заменить Fare выбросы на более приемлемые для моделей значения"
   ]
  },
  {
   "cell_type": "code",
   "execution_count": 36,
   "id": "927003ff",
   "metadata": {},
   "outputs": [],
   "source": [
    "titanic.loc[titanic.Fare > 300, \"Fare\"] = 290"
   ]
  },
  {
   "cell_type": "code",
   "execution_count": 37,
   "id": "88ffcd2e",
   "metadata": {},
   "outputs": [],
   "source": [
    "df10 = pd.concat([titanic, dop_features[[\"IsCabin\",\"Ticket_First_Bin\", \"Title_Bin\"]]], axis=1).drop([\"Survived\", \"Cabin\", \"Ticket\",\n",
    "                                                                                     \"Name\"], axis=1)"
   ]
  },
  {
   "cell_type": "code",
   "execution_count": 38,
   "id": "fefdf6d7",
   "metadata": {},
   "outputs": [
    {
     "name": "stdout",
     "output_type": "stream",
     "text": [
      "0.0 hours, 0.0 minutes and 6.54 seconds!\n"
     ]
    },
    {
     "data": {
      "text/plain": [
       "({'forest': 0.8361302681992338,\n",
       "  'svm': 0.8170498084291187,\n",
       "  'xgb': 0.8294252873563218},\n",
       " 0.8275351213282248)"
      ]
     },
     "execution_count": 38,
     "metadata": {},
     "output_type": "execute_result"
    }
   ],
   "source": [
    "X10 = MinMaxScaler().fit_transform(np.array(pd.get_dummies(df10[:split_index], columns=[\"Sex\", \"Embarked\",\"Title_Bin\",\n",
    "                                                                                 \"Ticket_First_Bin\"], drop_first=True)))\n",
    "get_scores(X10, ncv)"
   ]
  },
  {
   "cell_type": "markdown",
   "id": "16a9e30f",
   "metadata": {},
   "source": [
    "#### 11 solution"
   ]
  },
  {
   "cell_type": "markdown",
   "id": "3b5b1c71",
   "metadata": {},
   "source": [
    "Заменим на Age и Fare на группировку"
   ]
  },
  {
   "cell_type": "code",
   "execution_count": 39,
   "id": "45d58e72",
   "metadata": {},
   "outputs": [],
   "source": [
    "df11 = pd.concat([titanic, dop_features[[\"IsCabin\",\"Ticket_First_Bin\", \"Title_Bin\"]]], axis=1).drop([\"Survived\", \"Cabin\", \"Ticket\",\n",
    "                                                                                     \"Name\"], axis=1)"
   ]
  },
  {
   "cell_type": "code",
   "execution_count": 40,
   "id": "e943bb40",
   "metadata": {},
   "outputs": [],
   "source": [
    "df11[\"Age_Bin\"] = pd.cut(df11.Age, bins=8, labels=range(1,9)).replace([6,7,8],6)\n",
    "df11[\"Fare_Bin\"] = pd.qcut(df11.Fare, q=8, labels=range(1,9))\n",
    "df11.drop([\"Age\", \"Fare\"],  axis = 1, inplace=True)"
   ]
  },
  {
   "cell_type": "code",
   "execution_count": 41,
   "id": "25885814",
   "metadata": {},
   "outputs": [
    {
     "name": "stdout",
     "output_type": "stream",
     "text": [
      "0.0 hours, 0.0 minutes and 6.74 seconds!\n"
     ]
    },
    {
     "data": {
      "text/plain": [
       "({'forest': 0.8259770114942527,\n",
       "  'svm': 0.8249425287356321,\n",
       "  'xgb': 0.8104980842911877},\n",
       " 0.8204725415070242)"
      ]
     },
     "execution_count": 41,
     "metadata": {},
     "output_type": "execute_result"
    }
   ],
   "source": [
    "X11 = MinMaxScaler().fit_transform(np.array(pd.get_dummies(df11[:split_index], columns=[\"Sex\", \"Embarked\",\"Title_Bin\", \"Age_Bin\", \"Fare_Bin\",\n",
    "                                                                                 \"Ticket_First_Bin\"], drop_first=True)))\n",
    "get_scores(X11, ncv)"
   ]
  },
  {
   "cell_type": "markdown",
   "id": "1fbb30fb",
   "metadata": {},
   "source": [
    "#### 12 solution"
   ]
  },
  {
   "cell_type": "markdown",
   "id": "71386f9e",
   "metadata": {},
   "source": [
    "Попробуем преобразовать ненормальное распределение с помощью логарифмирования"
   ]
  },
  {
   "cell_type": "code",
   "execution_count": 42,
   "id": "091c6600",
   "metadata": {},
   "outputs": [],
   "source": [
    "df12 = pd.concat([titanic, dop_features[[\"IsCabin\",\"Ticket_First_Bin\", \"Title_Bin\"]]], axis=1).drop([\"Survived\", \"Cabin\", \"Ticket\",\n",
    "                                                                                     \"Name\"], axis=1)"
   ]
  },
  {
   "cell_type": "code",
   "execution_count": 43,
   "id": "b569af97",
   "metadata": {},
   "outputs": [],
   "source": [
    "df12.Fare = np.log1p(titanic.Fare)\n",
    "df12.Parch = np.log1p(df12.Parch)\n",
    "df12.SibSp = np.log1p(df12.SibSp)"
   ]
  },
  {
   "cell_type": "code",
   "execution_count": 44,
   "id": "318ed490",
   "metadata": {},
   "outputs": [
    {
     "name": "stdout",
     "output_type": "stream",
     "text": [
      "0.0 hours, 0.0 minutes and 6.55 seconds!\n"
     ]
    },
    {
     "data": {
      "text/plain": [
       "({'forest': 0.832758620689655,\n",
       "  'svm': 0.8260536398467433,\n",
       "  'xgb': 0.8294252873563218},\n",
       " 0.8294125159642401)"
      ]
     },
     "execution_count": 44,
     "metadata": {},
     "output_type": "execute_result"
    }
   ],
   "source": [
    "X12 = MinMaxScaler().fit_transform(np.array(pd.get_dummies(df12[:split_index], columns=[\"Sex\", \"Embarked\",\"Title_Bin\",\n",
    "                                                                                 \"Ticket_First_Bin\"], drop_first=True)))\n",
    "get_scores(X12, ncv)"
   ]
  },
  {
   "cell_type": "code",
   "execution_count": 45,
   "id": "8353acb8",
   "metadata": {},
   "outputs": [
    {
     "data": {
      "text/plain": [
       "<AxesSubplot:xlabel='Fare', ylabel='Count'>"
      ]
     },
     "execution_count": 45,
     "metadata": {},
     "output_type": "execute_result"
    },
    {
     "data": {
      "image/png": "[encoded data removed]",
      "text/plain": [
       "<Figure size 432x288 with 1 Axes>"
      ]
     },
     "metadata": {
      "needs_background": "light"
     },
     "output_type": "display_data"
    }
   ],
   "source": [
    "sns.histplot(df12.Fare)"
   ]
  },
  {
   "cell_type": "markdown",
   "id": "aa57f769",
   "metadata": {},
   "source": [
    "#### 13 solution"
   ]
  },
  {
   "cell_type": "markdown",
   "id": "5165403f",
   "metadata": {},
   "source": [
    "Возможно, Cabin_First будет работать лучше, чем IsCabin. проверим"
   ]
  },
  {
   "cell_type": "code",
   "execution_count": 52,
   "id": "c27f030b",
   "metadata": {},
   "outputs": [],
   "source": [
    "df13 = pd.concat([titanic, dop_features[[\"Cabin_First\",\"Ticket_First_Bin\", \"Title_Bin\"]]], axis=1).drop([\"Survived\", \"Cabin\", \"Ticket\",\n",
    "                                                                                     \"Name\"], axis=1)\n",
    "df13.Fare = np.log1p(df13.Fare)\n",
    "df13.Parch = np.log1p(df13.Parch)\n",
    "df13.SibSp = np.log1p(df13.SibSp)"
   ]
  },
  {
   "cell_type": "code",
   "execution_count": 54,
   "id": "c1ebd449",
   "metadata": {},
   "outputs": [
    {
     "name": "stdout",
     "output_type": "stream",
     "text": [
      "0.0 hours, 0.0 minutes and 6.85 seconds!\n"
     ]
    },
    {
     "data": {
      "text/plain": [
       "({'forest': 0.8327969348659003,\n",
       "  'svm': 0.821455938697318,\n",
       "  'xgb': 0.8282758620689654},\n",
       " 0.8275095785440613)"
      ]
     },
     "execution_count": 54,
     "metadata": {},
     "output_type": "execute_result"
    }
   ],
   "source": [
    "X13 = MinMaxScaler().fit_transform(np.array(pd.get_dummies(df13[:split_index], columns=[\"Sex\", \"Embarked\",\"Title_Bin\",\n",
    "                                                                                 \"Ticket_First_Bin\", \"Cabin_First\"], drop_first=True)))\n",
    "get_scores(X13, ncv)"
   ]
  },
  {
   "cell_type": "markdown",
   "id": "8c13bb3a",
   "metadata": {},
   "source": [
    "#### 14 solution"
   ]
  },
  {
   "cell_type": "code",
   "execution_count": 63,
   "id": "c83a75af",
   "metadata": {},
   "outputs": [
    {
     "data": {
      "text/html": [
       "<div>\n",
       "<style scoped>\n",
       "    .dataframe tbody tr th:only-of-type {\n",
       "        vertical-align: middle;\n",
       "    }\n",
       "\n",
       "    .dataframe tbody tr th {\n",
       "        vertical-align: top;\n",
       "    }\n",
       "\n",
       "    .dataframe thead th {\n",
       "        text-align: right;\n",
       "    }\n",
       "</style>\n",
       "<table border=\"1\" class=\"dataframe\">\n",
       "  <thead>\n",
       "    <tr style=\"text-align: right;\">\n",
       "      <th></th>\n",
       "      <th>Pclass</th>\n",
       "      <th>Sex</th>\n",
       "      <th>Age</th>\n",
       "      <th>SibSp</th>\n",
       "      <th>Parch</th>\n",
       "      <th>Fare</th>\n",
       "      <th>Embarked</th>\n",
       "      <th>IsCabin</th>\n",
       "      <th>Ticket_First_Bin</th>\n",
       "      <th>Title_Bin</th>\n",
       "    </tr>\n",
       "  </thead>\n",
       "  <tbody>\n",
       "    <tr>\n",
       "      <th>0</th>\n",
       "      <td>3</td>\n",
       "      <td>male</td>\n",
       "      <td>22.0</td>\n",
       "      <td>0.693147</td>\n",
       "      <td>0.000000</td>\n",
       "      <td>2.110213</td>\n",
       "      <td>S</td>\n",
       "      <td>0</td>\n",
       "      <td>new1</td>\n",
       "      <td>Mr</td>\n",
       "    </tr>\n",
       "    <tr>\n",
       "      <th>1</th>\n",
       "      <td>1</td>\n",
       "      <td>female</td>\n",
       "      <td>38.0</td>\n",
       "      <td>0.693147</td>\n",
       "      <td>0.000000</td>\n",
       "      <td>4.280593</td>\n",
       "      <td>C</td>\n",
       "      <td>1</td>\n",
       "      <td>P</td>\n",
       "      <td>Mrs</td>\n",
       "    </tr>\n",
       "    <tr>\n",
       "      <th>2</th>\n",
       "      <td>3</td>\n",
       "      <td>female</td>\n",
       "      <td>26.0</td>\n",
       "      <td>0.000000</td>\n",
       "      <td>0.000000</td>\n",
       "      <td>2.188856</td>\n",
       "      <td>S</td>\n",
       "      <td>0</td>\n",
       "      <td>S</td>\n",
       "      <td>Mrs</td>\n",
       "    </tr>\n",
       "    <tr>\n",
       "      <th>3</th>\n",
       "      <td>1</td>\n",
       "      <td>female</td>\n",
       "      <td>35.0</td>\n",
       "      <td>0.693147</td>\n",
       "      <td>0.000000</td>\n",
       "      <td>3.990834</td>\n",
       "      <td>S</td>\n",
       "      <td>1</td>\n",
       "      <td>1</td>\n",
       "      <td>Mrs</td>\n",
       "    </tr>\n",
       "    <tr>\n",
       "      <th>4</th>\n",
       "      <td>3</td>\n",
       "      <td>male</td>\n",
       "      <td>35.0</td>\n",
       "      <td>0.000000</td>\n",
       "      <td>0.000000</td>\n",
       "      <td>2.202765</td>\n",
       "      <td>S</td>\n",
       "      <td>0</td>\n",
       "      <td>3</td>\n",
       "      <td>Mr</td>\n",
       "    </tr>\n",
       "    <tr>\n",
       "      <th>...</th>\n",
       "      <td>...</td>\n",
       "      <td>...</td>\n",
       "      <td>...</td>\n",
       "      <td>...</td>\n",
       "      <td>...</td>\n",
       "      <td>...</td>\n",
       "      <td>...</td>\n",
       "      <td>...</td>\n",
       "      <td>...</td>\n",
       "      <td>...</td>\n",
       "    </tr>\n",
       "    <tr>\n",
       "      <th>413</th>\n",
       "      <td>3</td>\n",
       "      <td>male</td>\n",
       "      <td>26.0</td>\n",
       "      <td>0.000000</td>\n",
       "      <td>0.000000</td>\n",
       "      <td>2.202765</td>\n",
       "      <td>S</td>\n",
       "      <td>0</td>\n",
       "      <td>new1</td>\n",
       "      <td>Mr</td>\n",
       "    </tr>\n",
       "    <tr>\n",
       "      <th>414</th>\n",
       "      <td>1</td>\n",
       "      <td>female</td>\n",
       "      <td>39.0</td>\n",
       "      <td>0.000000</td>\n",
       "      <td>0.000000</td>\n",
       "      <td>4.699571</td>\n",
       "      <td>C</td>\n",
       "      <td>1</td>\n",
       "      <td>P</td>\n",
       "      <td>Other</td>\n",
       "    </tr>\n",
       "    <tr>\n",
       "      <th>415</th>\n",
       "      <td>3</td>\n",
       "      <td>male</td>\n",
       "      <td>38.5</td>\n",
       "      <td>0.000000</td>\n",
       "      <td>0.000000</td>\n",
       "      <td>2.110213</td>\n",
       "      <td>S</td>\n",
       "      <td>0</td>\n",
       "      <td>S</td>\n",
       "      <td>Mr</td>\n",
       "    </tr>\n",
       "    <tr>\n",
       "      <th>416</th>\n",
       "      <td>3</td>\n",
       "      <td>male</td>\n",
       "      <td>26.0</td>\n",
       "      <td>0.000000</td>\n",
       "      <td>0.000000</td>\n",
       "      <td>2.202765</td>\n",
       "      <td>S</td>\n",
       "      <td>0</td>\n",
       "      <td>3</td>\n",
       "      <td>Mr</td>\n",
       "    </tr>\n",
       "    <tr>\n",
       "      <th>417</th>\n",
       "      <td>3</td>\n",
       "      <td>male</td>\n",
       "      <td>6.5</td>\n",
       "      <td>0.693147</td>\n",
       "      <td>0.693147</td>\n",
       "      <td>3.150952</td>\n",
       "      <td>C</td>\n",
       "      <td>0</td>\n",
       "      <td>2</td>\n",
       "      <td>Master</td>\n",
       "    </tr>\n",
       "  </tbody>\n",
       "</table>\n",
       "<p>1309 rows × 10 columns</p>\n",
       "</div>"
      ],
      "text/plain": [
       "     Pclass     Sex   Age     SibSp     Parch      Fare Embarked  IsCabin  \\\n",
       "0         3    male  22.0  0.693147  0.000000  2.110213        S        0   \n",
       "1         1  female  38.0  0.693147  0.000000  4.280593        C        1   \n",
       "2         3  female  26.0  0.000000  0.000000  2.188856        S        0   \n",
       "3         1  female  35.0  0.693147  0.000000  3.990834        S        1   \n",
       "4         3    male  35.0  0.000000  0.000000  2.202765        S        0   \n",
       "..      ...     ...   ...       ...       ...       ...      ...      ...   \n",
       "413       3    male  26.0  0.000000  0.000000  2.202765        S        0   \n",
       "414       1  female  39.0  0.000000  0.000000  4.699571        C        1   \n",
       "415       3    male  38.5  0.000000  0.000000  2.110213        S        0   \n",
       "416       3    male  26.0  0.000000  0.000000  2.202765        S        0   \n",
       "417       3    male   6.5  0.693147  0.693147  3.150952        C        0   \n",
       "\n",
       "    Ticket_First_Bin Title_Bin  \n",
       "0               new1        Mr  \n",
       "1                  P       Mrs  \n",
       "2                  S       Mrs  \n",
       "3                  1       Mrs  \n",
       "4                  3        Mr  \n",
       "..               ...       ...  \n",
       "413             new1        Mr  \n",
       "414                P     Other  \n",
       "415                S        Mr  \n",
       "416                3        Mr  \n",
       "417                2    Master  \n",
       "\n",
       "[1309 rows x 10 columns]"
      ]
     },
     "execution_count": 63,
     "metadata": {},
     "output_type": "execute_result"
    }
   ],
   "source": [
    "df12.to_csv(\"vova_titanic_to_modeling.csv\")"
   ]
  },
  {
   "cell_type": "code",
   "execution_count": null,
   "id": "f8c5cbf5",
   "metadata": {},
   "outputs": [],
   "source": []
  },
  {
   "cell_type": "code",
   "execution_count": null,
   "id": "059d184b",
   "metadata": {},
   "outputs": [],
   "source": []
  },
  {
   "cell_type": "code",
   "execution_count": null,
   "id": "63574f57",
   "metadata": {},
   "outputs": [],
   "source": []
  }
 ],
 "metadata": {
  "kernelspec": {
   "display_name": "Python 3 (ipykernel)",
   "language": "python",
   "name": "python3"
  },
  "language_info": {
   "codemirror_mode": {
    "name": "ipython",
    "version": 3
   },
   "file_extension": ".py",
   "mimetype": "text/x-python",
   "name": "python",
   "nbconvert_exporter": "python",
   "pygments_lexer": "ipython3",
   "version": "3.8.12"
  },
  "varInspector": {
   "cols": {
    "lenName": 16,
    "lenType": 16,
    "lenVar": 40
   },
   "kernels_config": {
    "python": {
     "delete_cmd_postfix": "",
     "delete_cmd_prefix": "del ",
     "library": "var_list.py",
     "varRefreshCmd": "print(var_dic_list())"
    },
    "r": {
     "delete_cmd_postfix": ") ",
     "delete_cmd_prefix": "rm(",
     "library": "var_list.r",
     "varRefreshCmd": "cat(var_dic_list()) "
    }
   },
   "types_to_exclude": [
    "module",
    "function",
    "builtin_function_or_method",
    "instance",
    "_Feature"
   ],
   "window_display": false
  }
 },
 "nbformat": 4,
 "nbformat_minor": 5
}
